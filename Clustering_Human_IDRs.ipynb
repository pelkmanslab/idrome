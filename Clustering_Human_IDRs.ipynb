{
 "metadata": {
  "name": "",
  "signature": "sha256:0a135f41093555ac8a6889335dec239cfc3734fb81f68810a6d1a64dae3a30b0"
 },
 "nbformat": 3,
 "nbformat_minor": 0,
 "worksheets": [
  {
   "cells": [
    {
     "cell_type": "heading",
     "level": 1,
     "metadata": {},
     "source": [
      "Clustering Human IDRs using Amino Acid Frequency"
     ]
    },
    {
     "cell_type": "code",
     "collapsed": false,
     "input": [
      "import numpy as np, pandas as pd, matplotlib.pylab as plt\n",
      "import seaborn as sns\n",
      "from mischelperfuncs import *"
     ],
     "language": "python",
     "metadata": {},
     "outputs": [],
     "prompt_number": 1
    },
    {
     "cell_type": "code",
     "collapsed": false,
     "input": [
      "from scipy.cluster.hierarchy import linkage, dendrogram\n",
      "from scipy.spatial.distance import pdist\n",
      "\n",
      "cond_dist_vec = pdist(idrs[0].loc[:, 'A':'Y'].values)\n",
      "# links = linkage(cond_dist_vec, method='complete')\n",
      "\n",
      "ward_links = ward(cond_dist_vec)\n",
      "# idrs[idrs.loc[:, 'S'] > 0.7]"
     ],
     "language": "python",
     "metadata": {},
     "outputs": []
    },
    {
     "cell_type": "markdown",
     "metadata": {},
     "source": [
      "# Cluster Analysis\n",
      "\n",
      "Now that we have the clusters, how do we determine which clusters are meaningful? The nested nature of hierarchical clusters makes this difficult, but one option to start with clusters of a minimum size $k$ and calculate the enrichment or depletion of GO terms at this level and then go up level so that the size is $2k$ and then run these tests again. Now, this technique has some major drawbacks and is not very robust (i.e. error due to multiple testing), but it should suffice for now. This should be a common problem in biological clustering so I'm surprised by the lack of literature on this topic (aside from a couple papers on analyzing microarray expression profiles)."
     ]
    },
    {
     "cell_type": "code",
     "collapsed": false,
     "input": [
      "from scipy.cluster.hierarchy import *\n",
      "\n",
      "links = np.loadtxt('gw_human_linkage.txt')"
     ],
     "language": "python",
     "metadata": {},
     "outputs": []
    }
   ],
   "metadata": {}
  }
 ]
}