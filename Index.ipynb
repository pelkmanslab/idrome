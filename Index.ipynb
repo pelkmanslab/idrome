{
 "metadata": {
  "name": "",
  "signature": "sha256:5fa19d34e8d39e33f1aba93ca33c590d4932a0ba17320985377c0c44383dd3be"
 },
 "nbformat": 3,
 "nbformat_minor": 0,
 "worksheets": [
  {
   "cells": [
    {
     "cell_type": "heading",
     "level": 1,
     "metadata": {},
     "source": [
      "Index"
     ]
    },
    {
     "cell_type": "markdown",
     "metadata": {},
     "source": [
      "This notebook strives to provide an explanation of the structure of the **`idrome`** project and provide links to important portions.\n",
      "\n",
      "## Initialization\n",
      "\n",
      "The [Data_Prep.ipynb](/notebooks/Data_Prep.ipynb) notebook retrieves all the proteome information from Uniprot, santizes the input, and builds all the files needed in the later analyses.\n",
      "\n",
      "## Analysis\n",
      "\n",
      "- [Stress_Granule_HMM.ipynb](/notebooks/Stress_Granule_HMM.ipynb) - a Hidden Markov Model-based approach for identifying proteins that contain regions similar to the stress granule targeting sequences of TIA-1 and TAR. The model consists of three-states: background, prion-like, and TIA-1/TAR-like. This model may be able to identify proteins that associate with stress granules. \n",
      "- [Rotavirus_NSP5_HMM.ipynb](/notebooks/Rotavirus_NSP5_HMM.ipynb) - a Hidden Markov Model-based approach for identifying human proteins that contain regions with similar compositional bias as the Rotavirus C DS-1 NSP5 LCR. It uses a 2-state model.\n",
      "- [LCR_IDR_similarity.ipynb](/notebooks/LCR_IDR_similarity.ipynb) - basic analysis of the similarities/differences of LCRs and IDRs in the human proteome including the overlap between the two and specific amino acid propensities towards overlap.\n",
      "- [Viral_Proteome_Analysis.ipynb](/notebooks/Viral_Proteome_Analysis.ipynb) - IDRs within viral phylogenic tree and viral/human IDRome mapping tree problem. Will be split up.\n",
      "- [Enrichment_Analysis_for_DG_Screens.ipynb](/notebooks/Enrichment_Analysis_for_DG_Screens.ipynb) - TODO\n",
      "- [Clustering_Human_IDRs.ipynb](/notebooks/Clustering_Human_IDRs.ipynb) - TODO\n",
      "- [ClusteringIDRs.ipynb](/notebooks/ClusteringIDRs.ipynb) - Current location of most of the IDR clustering analysis, as well as general IDRome/LCRome features. Needs major refactoring.\n",
      "- [Viral_IDRs_to_Phylo_Tree.ipynb](/notebooks/Viral_IDRs_to_Phylo_Tree.ipynb) - TODO\n",
      "- [Viral_IDRs_Human_IDRome_Mapping.ipynb](/notebooks/Viral_IDRs_Human_IDRome_Mapping.ipynb) - TODO\n",
      "\n",
      "## Miscellaneous Files\n",
      "\n",
      "- **`DisorderedAlgoRunner.py`** - Python wrapper that runs CAST and IUPred sequentially on a given CSV file.\n",
      "- **`mtRunner.py`** - Much faster, parallelized version of the previous code. Missing some sanity checks and features\n",
      "- **`mischelperfuncs.py`** - Assorted helper functions\n",
      "- **`hmmhelperfuncs.py`** - Helper functions for plotting and visualizing HMM results"
     ]
    },
    {
     "cell_type": "code",
     "collapsed": false,
     "input": [],
     "language": "python",
     "metadata": {},
     "outputs": []
    }
   ],
   "metadata": {}
  }
 ]
}