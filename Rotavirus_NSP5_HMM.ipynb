{
 "metadata": {
  "name": "",
  "signature": "sha256:4477f66888326776db17093cdb24e8a3eb8f5d9e2b54c733c6dca965fca196a6"
 },
 "nbformat": 3,
 "nbformat_minor": 0,
 "worksheets": [
  {
   "cells": [
    {
     "cell_type": "heading",
     "level": 1,
     "metadata": {},
     "source": [
      "A Hidden Markov Model-based method for identifying proteins with regions of similar amino acid compositional bias to the Rotavirus C DS-1 NSP5 LCR"
     ]
    },
    {
     "cell_type": "markdown",
     "metadata": {},
     "source": [
      "Sections\n",
      "\n",
      "- [Introduction](#Introduction)\n",
      "- [Defining the model](#Defining-the-model)\n",
      "- [Constructing the model](#Constructing-the-model)\n",
      "- [Running the model](#Running-the-model)\n",
      "- [Analysis of results](#Analysis-of-results)"
     ]
    },
    {
     "cell_type": "heading",
     "level": 2,
     "metadata": {},
     "source": [
      "Introduction"
     ]
    },
    {
     "cell_type": "markdown",
     "metadata": {},
     "source": [
      "Recent evidence has shown that the non-structural proteins of many viruses play a significant role in the modulation of host cell machinery and the viral infection process. However, the mode of interaction and interacting partners are both still unknown. Recently, low complexity regions and intrinsically disordered regions have been suggested to be involved with the formation of fuzzy complexes, which are integral to the functioning of signaling networks, transcription, translation, and other control machinery of the cell. It is likely that viruses make use of these regions to hijack or mimic specific cellular factors that are involved in these important processes. One of key components of Rotavirus viroplasms is the non-structural protein 5 (NSP5), which has a predicted low complexity region. It would be interesting to see what cellular factors (if any) have similar compositional biases, as the current understanding of IDR/LCR association is that similarly biased regions associate together.\n",
      "\n",
      "### Caveats\n",
      "\n",
      "- This technique is built on the assumption that regions of similar compositional bias over a certain length will associate together. This may only be true for a subset of LCR/IDR interactions."
     ]
    },
    {
     "cell_type": "code",
     "collapsed": false,
     "input": [
      "import numpy as np, pandas as pd, seaborn as sns, yahmm as hmm, matplotlib.pylab as plt\n",
      "from ast import literal_eval\n",
      "from mischelperfuncs import *\n",
      "%matplotlib inline"
     ],
     "language": "python",
     "metadata": {},
     "outputs": [],
     "prompt_number": 1
    },
    {
     "cell_type": "heading",
     "level": 2,
     "metadata": {},
     "source": [
      "Defining the model"
     ]
    },
    {
     "cell_type": "code",
     "collapsed": false,
     "input": [
      "viral_protoeome = pd.read_csv('viral/human_viral_proteome_2014_07_withpolyprots.csv', index_col=0)\n",
      "human_proteome = pd.read_csv('human/gw_human_proteome_2014_07.csv', index_col=0)\n",
      "# Drop extraneous row\n",
      "human_proteome.drop(human_proteome.iloc[-1,:], inplace=True)\n",
      "# Compute background frequencies\n",
      "background_freqs = get_freqs(''.join(human_proteome['Sequence'].tolist()), pseudocount=0)"
     ],
     "language": "python",
     "metadata": {},
     "outputs": [
      {
       "output_type": "stream",
       "stream": "stdout",
       "text": [
        "Extraneous char   occurred 1120779 times; removed.\n",
        "Extraneous char B occurred 67 times; removed.\n",
        "Extraneous char U occurred 37 times; removed.\n",
        "Extraneous char X occurred 670 times; removed.\n",
        "Extraneous char Z occurred 64 times; removed.\n",
        "11318203.0\n"
       ]
      }
     ],
     "prompt_number": 2
    },
    {
     "cell_type": "heading",
     "level": 3,
     "metadata": {},
     "source": [
      "Identifying the low complexity region within Rotavirus C DS-1 NSP5"
     ]
    },
    {
     "cell_type": "code",
     "collapsed": false,
     "input": [
      "ds1_nsp5 = viral_protoeome[viral_protoeome['Protein names'].str.contains('NSP5') \n",
      "                           & viral_protoeome['taxon'].str.contains('DS-1')]\n",
      "nsp5_ser_rich_reg = literal_eval(ds1_nsp5['LCRs'].tolist()[0].split('@')[1][:-1])\n",
      "\n",
      "print('Rotavirus DS-1 strain NSP5 Ser-rich region from\\\n",
      "%s to %s'%(nsp5_ser_rich_reg[0], nsp5_ser_rich_reg[-1]))\n",
      "\n",
      "with sns.axes_style('ticks'):\n",
      "    sns.distplot(np.array(nsp5_ser_rich_reg), hist=False, rug=True);\n",
      "    sns.axlabel('Location of Ser residues within RotaC DS1 NSP5', 'Density')\n",
      "    plt.xlim(0)"
     ],
     "language": "python",
     "metadata": {},
     "outputs": [
      {
       "ename": "KeyError",
       "evalue": "'LCRs'",
       "output_type": "pyerr",
       "traceback": [
        "\u001b[0;31m---------------------------------------------------------------------------\u001b[0m\n\u001b[0;31mKeyError\u001b[0m                                  Traceback (most recent call last)",
        "\u001b[0;32m<ipython-input-3-78acc85eb73e>\u001b[0m in \u001b[0;36m<module>\u001b[0;34m()\u001b[0m\n\u001b[1;32m      1\u001b[0m ds1_nsp5 = viral_protoeome[viral_protoeome['Protein names'].str.contains('NSP5') \n\u001b[1;32m      2\u001b[0m                            & viral_protoeome['taxon'].str.contains('DS-1')]\n\u001b[0;32m----> 3\u001b[0;31m \u001b[0mnsp5_ser_rich_reg\u001b[0m \u001b[0;34m=\u001b[0m \u001b[0mliteral_eval\u001b[0m\u001b[0;34m(\u001b[0m\u001b[0mds1_nsp5\u001b[0m\u001b[0;34m[\u001b[0m\u001b[0;34m'LCRs'\u001b[0m\u001b[0;34m]\u001b[0m\u001b[0;34m.\u001b[0m\u001b[0mtolist\u001b[0m\u001b[0;34m(\u001b[0m\u001b[0;34m)\u001b[0m\u001b[0;34m[\u001b[0m\u001b[0;36m0\u001b[0m\u001b[0;34m]\u001b[0m\u001b[0;34m.\u001b[0m\u001b[0msplit\u001b[0m\u001b[0;34m(\u001b[0m\u001b[0;34m'@'\u001b[0m\u001b[0;34m)\u001b[0m\u001b[0;34m[\u001b[0m\u001b[0;36m1\u001b[0m\u001b[0;34m]\u001b[0m\u001b[0;34m[\u001b[0m\u001b[0;34m:\u001b[0m\u001b[0;34m-\u001b[0m\u001b[0;36m1\u001b[0m\u001b[0;34m]\u001b[0m\u001b[0;34m)\u001b[0m\u001b[0;34m\u001b[0m\u001b[0m\n\u001b[0m\u001b[1;32m      4\u001b[0m \u001b[0;34m\u001b[0m\u001b[0m\n\u001b[1;32m      5\u001b[0m \u001b[0;32mprint\u001b[0m\u001b[0;34m(\u001b[0m\u001b[0;34m'Rotavirus DS-1 strain NSP5 Ser-rich region from%s to %s'\u001b[0m\u001b[0;34m%\u001b[0m\u001b[0;34m(\u001b[0m\u001b[0mnsp5_ser_rich_reg\u001b[0m\u001b[0;34m[\u001b[0m\u001b[0;36m0\u001b[0m\u001b[0;34m]\u001b[0m\u001b[0;34m,\u001b[0m \u001b[0mnsp5_ser_rich_reg\u001b[0m\u001b[0;34m[\u001b[0m\u001b[0;34m-\u001b[0m\u001b[0;36m1\u001b[0m\u001b[0;34m]\u001b[0m\u001b[0;34m)\u001b[0m\u001b[0;34m)\u001b[0m\u001b[0;34m\u001b[0m\u001b[0m\n",
        "\u001b[0;32m/Users/tamasnagy/anaconda/envs/idrome/lib/python2.7/site-packages/pandas/core/frame.pyc\u001b[0m in \u001b[0;36m__getitem__\u001b[0;34m(self, key)\u001b[0m\n\u001b[1;32m   1676\u001b[0m             \u001b[0;32mreturn\u001b[0m \u001b[0mself\u001b[0m\u001b[0;34m.\u001b[0m\u001b[0m_getitem_multilevel\u001b[0m\u001b[0;34m(\u001b[0m\u001b[0mkey\u001b[0m\u001b[0;34m)\u001b[0m\u001b[0;34m\u001b[0m\u001b[0m\n\u001b[1;32m   1677\u001b[0m         \u001b[0;32melse\u001b[0m\u001b[0;34m:\u001b[0m\u001b[0;34m\u001b[0m\u001b[0m\n\u001b[0;32m-> 1678\u001b[0;31m             \u001b[0;32mreturn\u001b[0m \u001b[0mself\u001b[0m\u001b[0;34m.\u001b[0m\u001b[0m_getitem_column\u001b[0m\u001b[0;34m(\u001b[0m\u001b[0mkey\u001b[0m\u001b[0;34m)\u001b[0m\u001b[0;34m\u001b[0m\u001b[0m\n\u001b[0m\u001b[1;32m   1679\u001b[0m \u001b[0;34m\u001b[0m\u001b[0m\n\u001b[1;32m   1680\u001b[0m     \u001b[0;32mdef\u001b[0m \u001b[0m_getitem_column\u001b[0m\u001b[0;34m(\u001b[0m\u001b[0mself\u001b[0m\u001b[0;34m,\u001b[0m \u001b[0mkey\u001b[0m\u001b[0;34m)\u001b[0m\u001b[0;34m:\u001b[0m\u001b[0;34m\u001b[0m\u001b[0m\n",
        "\u001b[0;32m/Users/tamasnagy/anaconda/envs/idrome/lib/python2.7/site-packages/pandas/core/frame.pyc\u001b[0m in \u001b[0;36m_getitem_column\u001b[0;34m(self, key)\u001b[0m\n\u001b[1;32m   1683\u001b[0m         \u001b[0;31m# get column\u001b[0m\u001b[0;34m\u001b[0m\u001b[0;34m\u001b[0m\u001b[0m\n\u001b[1;32m   1684\u001b[0m         \u001b[0;32mif\u001b[0m \u001b[0mself\u001b[0m\u001b[0;34m.\u001b[0m\u001b[0mcolumns\u001b[0m\u001b[0;34m.\u001b[0m\u001b[0mis_unique\u001b[0m\u001b[0;34m:\u001b[0m\u001b[0;34m\u001b[0m\u001b[0m\n\u001b[0;32m-> 1685\u001b[0;31m             \u001b[0;32mreturn\u001b[0m \u001b[0mself\u001b[0m\u001b[0;34m.\u001b[0m\u001b[0m_get_item_cache\u001b[0m\u001b[0;34m(\u001b[0m\u001b[0mkey\u001b[0m\u001b[0;34m)\u001b[0m\u001b[0;34m\u001b[0m\u001b[0m\n\u001b[0m\u001b[1;32m   1686\u001b[0m \u001b[0;34m\u001b[0m\u001b[0m\n\u001b[1;32m   1687\u001b[0m         \u001b[0;31m# duplicate columns & possible reduce dimensionaility\u001b[0m\u001b[0;34m\u001b[0m\u001b[0;34m\u001b[0m\u001b[0m\n",
        "\u001b[0;32m/Users/tamasnagy/anaconda/envs/idrome/lib/python2.7/site-packages/pandas/core/generic.pyc\u001b[0m in \u001b[0;36m_get_item_cache\u001b[0;34m(self, item)\u001b[0m\n\u001b[1;32m   1050\u001b[0m         \u001b[0mres\u001b[0m \u001b[0;34m=\u001b[0m \u001b[0mcache\u001b[0m\u001b[0;34m.\u001b[0m\u001b[0mget\u001b[0m\u001b[0;34m(\u001b[0m\u001b[0mitem\u001b[0m\u001b[0;34m)\u001b[0m\u001b[0;34m\u001b[0m\u001b[0m\n\u001b[1;32m   1051\u001b[0m         \u001b[0;32mif\u001b[0m \u001b[0mres\u001b[0m \u001b[0;32mis\u001b[0m \u001b[0mNone\u001b[0m\u001b[0;34m:\u001b[0m\u001b[0;34m\u001b[0m\u001b[0m\n\u001b[0;32m-> 1052\u001b[0;31m             \u001b[0mvalues\u001b[0m \u001b[0;34m=\u001b[0m \u001b[0mself\u001b[0m\u001b[0;34m.\u001b[0m\u001b[0m_data\u001b[0m\u001b[0;34m.\u001b[0m\u001b[0mget\u001b[0m\u001b[0;34m(\u001b[0m\u001b[0mitem\u001b[0m\u001b[0;34m)\u001b[0m\u001b[0;34m\u001b[0m\u001b[0m\n\u001b[0m\u001b[1;32m   1053\u001b[0m             \u001b[0mres\u001b[0m \u001b[0;34m=\u001b[0m \u001b[0mself\u001b[0m\u001b[0;34m.\u001b[0m\u001b[0m_box_item_values\u001b[0m\u001b[0;34m(\u001b[0m\u001b[0mitem\u001b[0m\u001b[0;34m,\u001b[0m \u001b[0mvalues\u001b[0m\u001b[0;34m)\u001b[0m\u001b[0;34m\u001b[0m\u001b[0m\n\u001b[1;32m   1054\u001b[0m             \u001b[0mcache\u001b[0m\u001b[0;34m[\u001b[0m\u001b[0mitem\u001b[0m\u001b[0;34m]\u001b[0m \u001b[0;34m=\u001b[0m \u001b[0mres\u001b[0m\u001b[0;34m\u001b[0m\u001b[0m\n",
        "\u001b[0;32m/Users/tamasnagy/anaconda/envs/idrome/lib/python2.7/site-packages/pandas/core/internals.pyc\u001b[0m in \u001b[0;36mget\u001b[0;34m(self, item, fastpath)\u001b[0m\n\u001b[1;32m   2563\u001b[0m \u001b[0;34m\u001b[0m\u001b[0m\n\u001b[1;32m   2564\u001b[0m             \u001b[0;32mif\u001b[0m \u001b[0;32mnot\u001b[0m \u001b[0misnull\u001b[0m\u001b[0;34m(\u001b[0m\u001b[0mitem\u001b[0m\u001b[0;34m)\u001b[0m\u001b[0;34m:\u001b[0m\u001b[0;34m\u001b[0m\u001b[0m\n\u001b[0;32m-> 2565\u001b[0;31m                 \u001b[0mloc\u001b[0m \u001b[0;34m=\u001b[0m \u001b[0mself\u001b[0m\u001b[0;34m.\u001b[0m\u001b[0mitems\u001b[0m\u001b[0;34m.\u001b[0m\u001b[0mget_loc\u001b[0m\u001b[0;34m(\u001b[0m\u001b[0mitem\u001b[0m\u001b[0;34m)\u001b[0m\u001b[0;34m\u001b[0m\u001b[0m\n\u001b[0m\u001b[1;32m   2566\u001b[0m             \u001b[0;32melse\u001b[0m\u001b[0;34m:\u001b[0m\u001b[0;34m\u001b[0m\u001b[0m\n\u001b[1;32m   2567\u001b[0m                 \u001b[0mindexer\u001b[0m \u001b[0;34m=\u001b[0m \u001b[0mnp\u001b[0m\u001b[0;34m.\u001b[0m\u001b[0marange\u001b[0m\u001b[0;34m(\u001b[0m\u001b[0mlen\u001b[0m\u001b[0;34m(\u001b[0m\u001b[0mself\u001b[0m\u001b[0;34m.\u001b[0m\u001b[0mitems\u001b[0m\u001b[0;34m)\u001b[0m\u001b[0;34m)\u001b[0m\u001b[0;34m[\u001b[0m\u001b[0misnull\u001b[0m\u001b[0;34m(\u001b[0m\u001b[0mself\u001b[0m\u001b[0;34m.\u001b[0m\u001b[0mitems\u001b[0m\u001b[0;34m)\u001b[0m\u001b[0;34m]\u001b[0m\u001b[0;34m\u001b[0m\u001b[0m\n",
        "\u001b[0;32m/Users/tamasnagy/anaconda/envs/idrome/lib/python2.7/site-packages/pandas/core/index.pyc\u001b[0m in \u001b[0;36mget_loc\u001b[0;34m(self, key)\u001b[0m\n\u001b[1;32m   1179\u001b[0m         \u001b[0mloc\u001b[0m \u001b[0;34m:\u001b[0m \u001b[0mint\u001b[0m \u001b[0;32mif\u001b[0m \u001b[0munique\u001b[0m \u001b[0mindex\u001b[0m\u001b[0;34m,\u001b[0m \u001b[0mpossibly\u001b[0m \u001b[0mslice\u001b[0m \u001b[0;32mor\u001b[0m \u001b[0mmask\u001b[0m \u001b[0;32mif\u001b[0m \u001b[0;32mnot\u001b[0m\u001b[0;34m\u001b[0m\u001b[0m\n\u001b[1;32m   1180\u001b[0m         \"\"\"\n\u001b[0;32m-> 1181\u001b[0;31m         \u001b[0;32mreturn\u001b[0m \u001b[0mself\u001b[0m\u001b[0;34m.\u001b[0m\u001b[0m_engine\u001b[0m\u001b[0;34m.\u001b[0m\u001b[0mget_loc\u001b[0m\u001b[0;34m(\u001b[0m\u001b[0m_values_from_object\u001b[0m\u001b[0;34m(\u001b[0m\u001b[0mkey\u001b[0m\u001b[0;34m)\u001b[0m\u001b[0;34m)\u001b[0m\u001b[0;34m\u001b[0m\u001b[0m\n\u001b[0m\u001b[1;32m   1182\u001b[0m \u001b[0;34m\u001b[0m\u001b[0m\n\u001b[1;32m   1183\u001b[0m     \u001b[0;32mdef\u001b[0m \u001b[0mget_value\u001b[0m\u001b[0;34m(\u001b[0m\u001b[0mself\u001b[0m\u001b[0;34m,\u001b[0m \u001b[0mseries\u001b[0m\u001b[0;34m,\u001b[0m \u001b[0mkey\u001b[0m\u001b[0;34m)\u001b[0m\u001b[0;34m:\u001b[0m\u001b[0;34m\u001b[0m\u001b[0m\n",
        "\u001b[0;32m/Users/tamasnagy/anaconda/envs/idrome/lib/python2.7/site-packages/pandas/index.so\u001b[0m in \u001b[0;36mpandas.index.IndexEngine.get_loc (pandas/index.c:3656)\u001b[0;34m()\u001b[0m\n",
        "\u001b[0;32m/Users/tamasnagy/anaconda/envs/idrome/lib/python2.7/site-packages/pandas/index.so\u001b[0m in \u001b[0;36mpandas.index.IndexEngine.get_loc (pandas/index.c:3534)\u001b[0;34m()\u001b[0m\n",
        "\u001b[0;32m/Users/tamasnagy/anaconda/envs/idrome/lib/python2.7/site-packages/pandas/hashtable.so\u001b[0m in \u001b[0;36mpandas.hashtable.PyObjectHashTable.get_item (pandas/hashtable.c:11911)\u001b[0;34m()\u001b[0m\n",
        "\u001b[0;32m/Users/tamasnagy/anaconda/envs/idrome/lib/python2.7/site-packages/pandas/hashtable.so\u001b[0m in \u001b[0;36mpandas.hashtable.PyObjectHashTable.get_item (pandas/hashtable.c:11864)\u001b[0;34m()\u001b[0m\n",
        "\u001b[0;31mKeyError\u001b[0m: 'LCRs'"
       ]
      }
     ],
     "prompt_number": 3
    },
    {
     "cell_type": "markdown",
     "metadata": {},
     "source": [
      "### Computing AA frequencies for the NSP5 Ser-rich LCR\n",
      "\n",
      "Since we only have a single sequence for computing the emission probabilities, we'll use the pseudocount method to penalize similar sequences that happen to contain histidines and tryptophan since these are both absent in the NSP5 LCR."
     ]
    },
    {
     "cell_type": "code",
     "collapsed": false,
     "input": [
      "print(get_freqs(ds1_nsp5['Sequence'].str.replace(' ', '')[0][2:166]))\n",
      "print('\\nNo histidine or tryptophan\\n')\n",
      "print('Frequencies with a pseudocount rate of 1%, i.e. a \\\n",
      "pseudocount of 1 over the length of the sequence.')\n",
      "ds1_nsp5_lcr_freqs = get_freqs(ds1_nsp5['Sequence'].str.replace(' ', '')[0][2:166], \n",
      "                               pseudocount=1/166.0)\n",
      "print(ds1_nsp5_lcr_freqs)"
     ],
     "language": "python",
     "metadata": {},
     "outputs": []
    },
    {
     "cell_type": "markdown",
     "metadata": {},
     "source": [
      "### Distinctiveness of the DS1 NSP5 LCR sequence\n",
      "\n",
      "In order for the HMM to effectively identify similar sequences, the compositional bias of the NSP5 LCR sequence should be distinctive, i.e. substantially different from background."
     ]
    },
    {
     "cell_type": "code",
     "collapsed": false,
     "input": [
      "get_fold_enrichments(ds1_nsp5_lcr_freqs, background_freqs)"
     ],
     "language": "python",
     "metadata": {},
     "outputs": []
    },
    {
     "cell_type": "heading",
     "level": 2,
     "metadata": {},
     "source": [
      "Constructing the model"
     ]
    },
    {
     "cell_type": "code",
     "collapsed": false,
     "input": [
      "background = hmm.State(hmm.DiscreteDistribution(dict(background_freqs)), \n",
      "                       name='B')\n",
      "nsp5_like = hmm.State(hmm.DiscreteDistribution(dict(ds1_nsp5_lcr_freqs)), \n",
      "                      name = 'N')\n",
      "model = hmm.Model('nsp5_like_proteins')\n",
      "\n",
      "model.add_state(background)\n",
      "model.add_state(nsp5_like)"
     ],
     "language": "python",
     "metadata": {},
     "outputs": []
    },
    {
     "cell_type": "markdown",
     "metadata": {},
     "source": [
      "A given amino acid is much more likely to be found in the background state than the \"NSP5 like\" state. When building a HMM, we have to define the probabilities of entering each state. Since the expected transition probabilities into the \"NSP5 like\" state is completely unknown, we'll simply use the transition probabilities from the Alberti et al paper for prion-like domains as a starting point. "
     ]
    },
    {
     "cell_type": "code",
     "collapsed": false,
     "input": [
      "# Initial transition probabilities\n",
      "model.add_transition(model.start, background, 0.99)\n",
      "model.add_transition(model.start, nsp5_like, 0.01)\n",
      "\n",
      "# Homogeneous transition probabilities\n",
      "model.add_transition(background, background, 0.9999)\n",
      "model.add_transition(nsp5_like, nsp5_like, 0.98)\n",
      "\n",
      "# Heterogeneous transition probabilities\n",
      "model.add_transition(background, nsp5_like, 0.0001)\n",
      "model.add_transition(nsp5_like, background, 0.02)\n",
      "\n",
      "# Finalize model\n",
      "model.bake(verbose=True)"
     ],
     "language": "python",
     "metadata": {},
     "outputs": []
    },
    {
     "cell_type": "heading",
     "level": 2,
     "metadata": {},
     "source": [
      "Running the model"
     ]
    },
    {
     "cell_type": "markdown",
     "metadata": {},
     "source": [
      "There very different methods for comparing the different proteins. We will first filter using the Viterbi algorithm to find proteins that have a most probable path of states that includes at least 30 consecutive residues in a NSP5-like state. Then the proteins that have this are ranked by the maximum value of the rolling sum of their posterior probabilities to be in the NSP5-like state. "
     ]
    },
    {
     "cell_type": "code",
     "collapsed": false,
     "input": [
      "%load_ext autoreload\n",
      "%autoreload 2 \n",
      "from hmmhelperfuncs import *\n",
      "\n",
      "nsp5_like = pd.DataFrame(human_proteome)\n",
      "nsp5_like['NSP5_like_amt'] = run_HMM_viterbi_map(model, human_proteome, 30, 50, 'N')\n",
      "nsp5_like = nsp5_like[nsp5_like['NSP5_like_amt'] > 0].sort('NSP5_like_amt', ascending=False)"
     ],
     "language": "python",
     "metadata": {},
     "outputs": []
    },
    {
     "cell_type": "heading",
     "level": 2,
     "metadata": {},
     "source": [
      "Analysis of results"
     ]
    },
    {
     "cell_type": "code",
     "collapsed": false,
     "input": [
      "nsp5_like"
     ],
     "language": "python",
     "metadata": {},
     "outputs": []
    },
    {
     "cell_type": "code",
     "collapsed": false,
     "input": [
      "%matplotlib inline\n",
      "for idx, prot in nsp5_like[:10].iterrows():\n",
      "    plot_HMM(model, nsp5_like, 30,50, 'N', 'B', idx, name=prot['Protein names'].split(' (')[0])"
     ],
     "language": "python",
     "metadata": {},
     "outputs": []
    },
    {
     "cell_type": "code",
     "collapsed": false,
     "input": [],
     "language": "python",
     "metadata": {},
     "outputs": []
    }
   ],
   "metadata": {}
  }
 ]
}