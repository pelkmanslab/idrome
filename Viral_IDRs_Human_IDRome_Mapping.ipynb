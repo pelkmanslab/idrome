{
 "metadata": {
  "name": "",
  "signature": "sha256:81264bad5bbb364933000060cb43a376c6d81c0c989620be3c4b88b1f5c1599b"
 },
 "nbformat": 3,
 "nbformat_minor": 0,
 "worksheets": [
  {
   "cells": [
    {
     "cell_type": "heading",
     "level": 1,
     "metadata": {},
     "source": [
      "Identification of Candidate Human Cellular Factors for Viral Co-option and Mimicry"
     ]
    },
    {
     "cell_type": "markdown",
     "metadata": {},
     "source": [
      "Since IDRs are more prevalent in important signaling networks and they are more promiscuous than well-structured regions it is likely that they are often hijacked or mimicked by viral proteins. Also, viruses/viral families will likely make use of different approaches to hijack only the pathways that are important to their specific reproductive sequence.\n",
      "\n",
      "We can potentially tease this relationship apart if we try and find the human IDRs that are most similar to a given viral IDR and see what GO terms are enriched among the protein to which the human IDRs belong."
     ]
    },
    {
     "cell_type": "code",
     "collapsed": false,
     "input": [
      "import numpy as np, pandas as pd, matplotlib.pylab as plt\n",
      "%matplotlib inline"
     ],
     "language": "python",
     "metadata": {},
     "outputs": [],
     "prompt_number": 1
    },
    {
     "cell_type": "heading",
     "level": 1,
     "metadata": {},
     "source": [
      "WIP: Move components over from `Viral_Proteome_Analysis.ipynb`"
     ]
    }
   ],
   "metadata": {}
  }
 ]
}