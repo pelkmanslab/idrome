{
 "metadata": {
  "name": "",
  "signature": "sha256:f8eed6858e85787e286c36d0ba033fff0d2ec04870e9a283edbd4b65559acb11"
 },
 "nbformat": 3,
 "nbformat_minor": 0,
 "worksheets": [
  {
   "cells": [
    {
     "cell_type": "markdown",
     "metadata": {},
     "source": [
      "# LCRs/IDRs in the Human Viral Proteome\n",
      "\n",
      "Here we systematically analyze all the reference proteomes available in Uniprot for human viruses.\n",
      "\n",
      "Table of Contents:\n",
      "\n",
      "- [Viral Evolutionary Tree Construction](#Generation-of-Viral-Evolutionary-Tree-using-Uniprot-Taxonomy)\n",
      "- [Mapping Viral IDRs to Human IDRs/functionality](#Mapping-Viral-IDRs-onto-Human-IDRome-tree)\n",
      "\n",
      "### Imports"
     ]
    },
    {
     "cell_type": "code",
     "collapsed": false,
     "input": [
      "import json, re\n",
      "import pandas as pd, numpy as np\n",
      "# Nice tree library\n",
      "from ete_dev import Tree, TreeStyle, TreeNode, NodeStyle, faces, CircleFace, PieChartFace, TextFace\n",
      "from scipy.spatial.distance import pdist, squareform, cdist\n",
      "from scipy.cluster.hierarchy import *\n",
      "from scipy.stats import hypergeom\n",
      "from mischelperfuncs import *\n",
      "# Nice graphing library\n",
      "import seaborn as sns\n",
      "from collections import Counter, defaultdict\n",
      "%matplotlib inline"
     ],
     "language": "python",
     "metadata": {},
     "outputs": [
      {
       "output_type": "stream",
       "stream": "stdout",
       "text": [
        "No module named MySQLdb\n"
       ]
      },
      {
       "output_type": "stream",
       "stream": "stderr",
       "text": [
        " MySQLdb module could not be loaded\n"
       ]
      }
     ],
     "prompt_number": 1
    },
    {
     "cell_type": "heading",
     "level": 2,
     "metadata": {},
     "source": [
      "Generation of Viral Evolutionary Tree using Uniprot Taxonomy"
     ]
    },
    {
     "cell_type": "markdown",
     "metadata": {},
     "source": [
      "It is interesting to see if specific viral families/viruses are enriched in IDRs or certain types of LCRs. Here we use the ete library to do this."
     ]
    },
    {
     "cell_type": "code",
     "collapsed": false,
     "input": [
      "input_file = 'viral/human_viral_proteome_2014_07_withpolyprots.csv'\n",
      "\n",
      "df = pd.read_csv(input_file, index_col=0)\n",
      "    \n",
      "class Protein(object):\n",
      "    \"\"\"\n",
      "    A simple container for a protein\n",
      "    \"\"\"\n",
      "    def __init__(self, uniprot_entry = '', index = -1, description = '', seq = '', go_terms = [], lcrs = '', idrs = ''):\n",
      "        self.uniprot_entry = uniprot_entry\n",
      "        self.index = index\n",
      "        self.description = description\n",
      "        self.seq = seq\n",
      "        self.go_terms = go_terms\n",
      "        self.lcrs = lcrs\n",
      "        self.idrs = idrs\n",
      "        \n",
      "    def to_JSON(self):\n",
      "        return json.dumps(self, default=lambda o: o.__dict__, sort_keys=True, indent=4)\n",
      "\n",
      "t = Tree()\n",
      "t.name = \"Viruses\"\n",
      "    \n",
      "results = []\n",
      "    \n",
      "for org_id, group in df.groupby('Organism ID'):\n",
      "    proteins = []\n",
      "    for index, protein in group.iterrows():\n",
      "        proteins.append(Protein(protein.name, index, protein['Protein names'], protein['Sequence'], \n",
      "                                protein['Gene ontology (GO)'], protein['LCRs'], protein['Disordered Threshold: 30']))\n",
      "    #print(\"\\n --> \\n %s\"%group['taxon'].values[0])\n",
      "    taxon = group['taxon'].values[0]\n",
      "    levels = taxon.split(',')[::-1]\n",
      "    num_levels = len(levels)\n",
      "    \n",
      "    # Iterating up the taxonomic tree: species -> genera -> etc\n",
      "    for i in xrange(num_levels-1, -1, -1):\n",
      "        top_level = t.search_nodes(name=levels[i])\n",
      "        if len(top_level) == 1:\n",
      "            # if we find that a given level is already in the tree then append all the new information\n",
      "            up_node = top_level[0]\n",
      "            for j in xrange(i+1, num_levels):\n",
      "                up_node = up_node.add_child(name=levels[j])\n",
      "                # If this is a leaf then add the protein information\n",
      "                #if j+1 == num_levels:\n",
      "            up_node.add_features(proteins=proteins, org_id=org_id, taxon=taxon)        \n",
      "            break\n",
      "\n",
      "aas = ['P', 'S', 'A', 'E', 'T', 'R', 'D', 'G', 'K', 'I', 'Q', 'L', 'C', 'N', 'H', 'W', 'V', 'M', 'Y', 'F']\n",
      "            \n",
      "def layout(node):\n",
      "    if 'proteins' in node.features:\n",
      "        #print(\"%s:%s\\n\"%(['%s --> %s'%(prot.description.split(' (')[0], prot.lcrs) for prot in node.proteins if not pd.isnull(prot.lcrs)], len(node.proteins)))\n",
      "        num_lcr = len([protein for protein in node.proteins if not pd.isnull(protein.lcrs)])\n",
      "        percent_lcr = (num_lcr*100)/len(node.proteins)\n",
      "        C = PieChartFace(percents=[percent_lcr, 100-percent_lcr], width=20, height=20, colors=['RoyalBlue', 'NavajoWhite'])\n",
      "        C.opacity = 0.7\n",
      "        faces.add_face_to_node(C, node, 2, aligned=True, position=\"branch-right\")\n",
      "        percent_idr = (len([protein for protein in node.proteins if pd.notnull(protein.idrs)])*100)/len(node.proteins)\n",
      "        F = PieChartFace(percents=[percent_idr, 100-percent_idr], width=20, height=20, colors=['LightSeaGreen', 'NavajoWhite'])\n",
      "        F.opacity = 0.7\n",
      "        faces.add_face_to_node(F, node, 3, aligned=True, position=\"branch-right\")\n",
      "        if num_lcr >= 1:\n",
      "            for i in range(len(aas)):\n",
      "                percent_specific_lcr = (len([protein for protein in node.proteins if not pd.isnull(protein.lcrs) \n",
      "                                             and aas[i] in protein.lcrs and\n",
      "                                             len(set(re.findall(r'([A-Z])',protein.lcrs)).difference(aas[i])) == 0])*100)/num_lcr\n",
      "                percent_unspecific = (len([protein for protein in node.proteins if not pd.isnull(protein.lcrs) \n",
      "                                             and aas[i] in protein.lcrs and not\n",
      "                                             len(set(re.findall(r'([A-Z])',protein.lcrs)).difference(aas[i])) == 0])*100)/num_lcr\n",
      "                \n",
      "                D = PieChartFace(percents=[percent_specific_lcr, percent_unspecific, \n",
      "                                           100-percent_specific_lcr-percent_unspecific], width=20, height=20, \n",
      "                                 colors=['RoyalBlue','IndianRed','NavajoWhite'])\n",
      "            \n",
      "                D.opacity = 0.7\n",
      "            \n",
      "                faces.add_face_to_node(D, node, 5+i, aligned=True, position=\"branch-right\")\n",
      "        else: \n",
      "            for i in range(len(aas)):\n",
      "                faces.add_face_to_node(TextFace(\"  %s\"%aas[i]), node, 5+i, aligned=True, position='branch-right')\n",
      "                \n",
      "        faces.add_face_to_node(TextFace(\"   \"), node, 4, aligned=True)\n",
      "        faces.add_face_to_node(TextFace(\"%s\"%(node.name.rsplit('(', 1)[0])), node, len(aas)+5, aligned=True)\n",
      "        faces.add_face_to_node(TextFace(\"  %s  \"%(len(node.proteins))), node, 1, aligned=True)\n",
      "            \n",
      "ts = TreeStyle()\n",
      "ts.layout_fn = layout\n",
      "ts.show_leaf_name = False\n",
      "\n",
      "colors = ['LightSteelBlue', 'LightSeaGreen', 'IndianRed', 'NavajoWhite',\n",
      "          'MediumOrchid', 'Silver', 'RoyalBlue', 'Coral']\n",
      "\n",
      "#for group in t.get_children():\n",
      "#    a = t.search_nodes(name=subgroup)[0]\n",
      "#    group.add_face(TextFace(group.name, tight_text=True), column=0)\n",
      "#    for subgroup in group.get_children():\n",
      "#        subgroup.add_face(TextFace(\"%s\"%subgroup.name, tight_text=True), column=0)\n",
      "\n",
      "# Let's recursively add the names for a given number of levels\n",
      "def add_names(parent, level):\n",
      "    if level is 0: return\n",
      "    for group in parent.get_children():\n",
      "        group.add_face(TextFace(\" %s \"%group.name.split(' (')[0], tight_text=True), column=0)\n",
      "        add_names(group, level-1)\n",
      "add_names(t, 4)\n",
      "    \n",
      "proteome_size = pd.DataFrame([{'size':len(node.proteins), 'group':str(node.get_ancestors()[-2].name)} for node in t if 'proteins' in node.features], \n",
      "                             columns=['group', 'size'])\n",
      "\n",
      "#proteome_size[proteome_size['group'].isin()]\n",
      "proteome_size.sort('size', inplace=True)\n",
      "groups = (proteome_size.groupby('group').size() > 1)\n",
      "proteome_size = proteome_size[proteome_size['group'].isin(groups[groups].index)]\n",
      "\n",
      "#print(proteome_size.values)\n",
      "tmp = CircleFace(radius=10, color='NavajoWhite')\n",
      "tmp.opacity = 0.7\n",
      "ts.title.add_face(tmp, column=0)\n",
      "ts.title.add_face(TextFace('0% proteome contains LCR(s)'), column=1)\n",
      "tmp = CircleFace(radius=10, color='RoyalBlue')\n",
      "tmp.opacity = 0.7\n",
      "ts.title.add_face(tmp, column=2)\n",
      "ts.title.add_face(TextFace('100% proteome contains LCR(s)'), column=3)\n",
      "ts.title.add_face(TextFace('  Column order = %s  '%(', '.join(aas))), column=4)\n",
      "tmp = CircleFace(radius=10, color='IndianRed')\n",
      "tmp.opacity = 0.7\n",
      "ts.title.add_face(tmp, column=5)\n",
      "ts.title.add_face(TextFace('  LCR-containing proteins that contain this LCR and others  '), column=6)\n",
      "tmp = CircleFace(radius=10, color='RoyalBlue')\n",
      "tmp.opacity = 0.7\n",
      "ts.title.add_face(tmp, column=7)\n",
      "ts.title.add_face(TextFace('  LCR-containing proteins that contain ONLY this LCR  '), column=8)\n",
      "\n",
      "t.render(\"%s.png\"%input_file.rsplit('.csv')[0], tree_style=ts, w=2000, units='px')\n",
      "#df[df['taxon'].str.contains('Rotavirus C')]['Sequence'].values\n",
      "print()"
     ],
     "language": "python",
     "metadata": {},
     "outputs": [
      {
       "output_type": "stream",
       "stream": "stdout",
       "text": [
        "()\n"
       ]
      }
     ],
     "prompt_number": 2
    },
    {
     "cell_type": "heading",
     "level": 1,
     "metadata": {},
     "source": [
      "Mapping Viral IDRs onto Human IDRome tree"
     ]
    },
    {
     "cell_type": "markdown",
     "metadata": {},
     "source": [
      "Since IDRs are more prevalent in important signaling networks and they are more promiscuous than well-structured regions it is likely that they are often hijacked or mimicked by viral proteins. Also, viruses/viral families will likely make use of different approaches to hijack only the pathways that are important to their specific reproductive sequence.\n",
      "\n",
      "We can potentially tease this relationship apart if we try and find the human IDRs that are most similar to a given viral IDR and see what GO terms are enriched among the protein to which the human IDRs belong.\n",
      "\n",
      "### Retrieve nodes of viral families\n",
      "\n",
      "This code will extract the parent nodes of each viral families (dsDNA viruses, retro-transcribing viruses, dsRNA viruses, (+) ssRNA viruses, (-) ssRNA viruses, ssDNA viruses). "
     ]
    },
    {
     "cell_type": "code",
     "collapsed": false,
     "input": [],
     "language": "python",
     "metadata": {},
     "outputs": [
      {
       "output_type": "stream",
       "stream": "stdout",
       "text": [
        "[Tree node 'dsDNA viruses' (0x10d6efad), Tree node 'Retro-transcribing viruses' (0x10d7a015), Tree node 'dsRNA viruses' (0x10d7c9d9), Tree node 'ssRNA positive-strand viruses' (0x10d7de11), Tree node 'ssRNA negative-strand viruses' (0x10d7fbd5), Tree node 'ssDNA viruses' (0x10e18479)]\n"
       ]
      }
     ],
     "prompt_number": 3
    },
    {
     "cell_type": "markdown",
     "metadata": {},
     "source": [
      "### Building human IDRome tree\n",
      "\n",
      "Next, we will build the human tree using the previously generated linkage matrix from the hierarchical clustering performed on the human proteome."
     ]
    },
    {
     "cell_type": "code",
     "collapsed": false,
     "input": [
      "human_idrs = pd.read_csv(\"gw_idrs_30plus.csv\", index_col=0)\n",
      "root, leaves, all_nodes = build_tree(np.loadtxt('gw_human_linkage.txt'))"
     ],
     "language": "python",
     "metadata": {},
     "outputs": [
      {
       "output_type": "stream",
       "stream": "stderr",
       "text": [
        "mischelperfuncs.py:65: UserWarning: This whole thing is a super fragile hack. This is could break hard with future SciPy releases. There needs to be a better way to map the original data to the ClusterNodes. For now I'm relying on this line to get this mapping: https://github.com/scipy/scipy/blob/v0.14.0/scipy/cluster/hierarchy.py#L880\n",
        "  https://github.com/scipy/scipy/blob/v0.14.0/scipy/cluster/hierarchy.py#L880\")\n"
       ]
      }
     ],
     "prompt_number": 4
    },
    {
     "cell_type": "markdown",
     "metadata": {},
     "source": [
      "This is a small function that retrieves the idrs belonging to the children of a node in the viral proteome tree."
     ]
    },
    {
     "cell_type": "code",
     "collapsed": false,
     "input": [
      "def get_idrs_in_tree(node, out):\n",
      "    \"\"\"\n",
      "    Appends all idrs belonging to the children of the given node\n",
      "    to the given `out` list\n",
      "    \"\"\"\n",
      "    if len(node.children) < 1:\n",
      "        for prot in node.proteins:\n",
      "            if pd.notnull(prot.idrs):\n",
      "                idr_seqs = calc_disordered_regions(prot.idrs, prot.seq)\n",
      "                if '_' in idr_seqs:\n",
      "                    [out.append(idr) for idr in idr_seqs.split('_')]\n",
      "                else:\n",
      "                    out.append(idr_seqs)\n",
      "        return\n",
      "    for child in node.children:\n",
      "        get_idrs_in_tree(child, out)"
     ],
     "language": "python",
     "metadata": {},
     "outputs": [],
     "prompt_number": 5
    },
    {
     "cell_type": "markdown",
     "metadata": {},
     "source": [
      "## Best IDR match is not well-separated\n",
      "\n",
      "We can't just pick the most similar IDR in the human IDRome to match with a viral IDR because of this continuing problem of separation based on Euclidean distance. One way to get around this is to select the best $x$ matches and pick the nodes in the human IDRome tree that explain the most."
     ]
    },
    {
     "cell_type": "code",
     "collapsed": false,
     "input": [
      "idr_seqs = []\n",
      "get_idrs_in_tree(family_root_nodes[2], idr_seqs)\n",
      "\n",
      "fam_freqs = np.zeros((len(idr_seqs), 20))\n",
      "for idx, idr in enumerate(idr_seqs):\n",
      "    freqs = get_freqs(idr, verbose=False)\n",
      "    fam_freqs[idx] = np.array([freqs[aa] for aa in get_aas()])\n",
      "\n",
      "dists = cdist(fam_freqs,human_idrs.loc[:,'A':'Y'].values)\n",
      "\n",
      "    \n",
      "tmp = dists.argpartition(10, axis=1)[:,:10]\n",
      "for i in range(len(fam_freqs)):\n",
      "    sns.plt.plot(dists[i][tmp[i][np.argsort(dists[i][tmp[i]])]])\n",
      "sns.axlabel('Rank position of match','Euclidean Distance')"
     ],
     "language": "python",
     "metadata": {},
     "outputs": [
      {
       "metadata": {},
       "output_type": "display_data",
       "png": "[encoded data removed]",
       "text": [
        "<matplotlib.figure.Figure at 0x117561910>"
       ]
      }
     ],
     "prompt_number": 6
    },
    {
     "cell_type": "markdown",
     "metadata": {},
     "source": [
      "## Retrieve human IDRome leaves associated with each viral family\n",
      "\n",
      "For each viral family identified above, we first get the amino acid frequencies for IDRs belonging to that family. Then, for each of those viral IDRs we find the 10 best matches in the human IDRome. Next, we pool the \"leaves\" of the human IDRome (these leaves are the ones that have at least 20 IDRs in them and neither of their children have more than 20) and add them (and the viral IDRs that they explain) to the **`fam_leaftonode_links`** mapping variable.\n",
      "\n",
      "*Note: this code is horribly inefficient so this can take awhile (~5 minutes on my machine)*"
     ]
    },
    {
     "cell_type": "code",
     "collapsed": false,
     "input": [
      "fam_counts = []\n",
      "fam_leaftonode_links = []\n",
      "\n",
      "for v in family_root_nodes:\n",
      "    idr_seqs = []\n",
      "    get_idrs_in_tree(v, idr_seqs)\n",
      "\n",
      "    fam_freqs = np.zeros((len(idr_seqs), 20))\n",
      "    for idx, idr in enumerate(idr_seqs):\n",
      "        freqs = get_freqs(idr, verbose=False)\n",
      "        fam_freqs[idx] = np.array([freqs[aa] for aa in get_aas()])\n",
      "\n",
      "    dists = cdist(fam_freqs,human_idrs.loc[:,'A':'Y'].values)\n",
      "\n",
      "    min_dists = dists.argpartition(10, axis=1)[:,:10]\n",
      "\n",
      "    counts = Counter()\n",
      "    potential_leaves = defaultdict(set)\n",
      "    max_seq_idx = 0\n",
      "\n",
      "    for i in range(len(fam_freqs)):\n",
      "        best_matches = min_dists[i][np.argsort(dists[i][min_dists[i]])]\n",
      "\n",
      "        pool = set()\n",
      "        for k in range(len(best_matches)):\n",
      "            best_node = all_nodes[best_matches[k]]\n",
      "    #         print('Trying %s'%(best_matches[k]))\n",
      "            while best_node not in leaves and best_node != root:\n",
      "                best_node = best_node.parent\n",
      "            if best_node != root:\n",
      "                pool.add(best_node.id)\n",
      "        if len(pool) == 0:\n",
      "            print(\"No acceptable leaves found\")\n",
      "            continue\n",
      "\n",
      "        for key in pool:\n",
      "            max_seq_idx = max(i, max_seq_idx)\n",
      "            potential_leaves[key].add(i)\n",
      "        counts.update(pool)\n",
      "    #     potential_leaves.update({key:i for key in pool})\n",
      "\n",
      "    #     print(pool)\n",
      "    #     potential_leaves.update({pool})\n",
      "    #     print(set(best_node.child_ids).intersection(best_matches))\n",
      "    #     counts.update([best_node.id])\n",
      "    #     get_go_counts(pd.Series(human_idrs.iloc[best_node.child_ids, :].index.tolist()), human_proteome)\n",
      "    # human_proteome.loc[pd.Series(human_idrs.iloc[best_node.child_ids, :].index.tolist()).str.extract('([\\w]+)_'), 'Gene ontology (GO)']\n",
      "    fam_counts.append(counts)\n",
      "    fam_leaftonode_links.append(potential_leaves)"
     ],
     "language": "python",
     "metadata": {},
     "outputs": [
      {
       "output_type": "stream",
       "stream": "stdout",
       "text": [
        "No acceptable leaves found\n",
        "No acceptable leaves found"
       ]
      },
      {
       "output_type": "stream",
       "stream": "stdout",
       "text": [
        "\n",
        "No acceptable leaves found"
       ]
      },
      {
       "output_type": "stream",
       "stream": "stdout",
       "text": [
        "\n"
       ]
      }
     ],
     "prompt_number": 7
    },
    {
     "cell_type": "markdown",
     "metadata": {},
     "source": [
      "## Finding the human IDRome \"leaves\" that have the maximum explainability for the viral IDRs within a family\n",
      "\n",
      "For each viral family, we start by adding the human IDRome leaf that is connected to the most IDRs within that family to our list of maximum explaining leaves (**`included`**). Then, for each of the remaining potential leaves we check the overlap between the viral IDRs that it explains and those that are already explained by leaves in the growing list. If the overlap is less than 25% than we add the new node to the list. Then we pool all the maximum explaining leaves together and calculate the significance of the GO term enrichment. We repeat this process for the rest of the viral families."
     ]
    },
    {
     "cell_type": "code",
     "collapsed": false,
     "input": [
      "human_proteome = pd.read_csv('human/gw_human_proteome_2014_07.csv', index_col=0)\n",
      "background_counts = get_go_counts(pd.Series(human_idrs.index.tolist()), \n",
      "                                  human_proteome)\n",
      "\n",
      "for v in range(len(family_root_nodes)):\n",
      "    print('\\n%s'%family_root_nodes[v].name)\n",
      "    included = []\n",
      "    common = fam_counts[v].most_common(len(fam_counts[v]))\n",
      "    potential_leaves = fam_leaftonode_links[v]\n",
      "    included.append(common[0][0])\n",
      "    results = []\n",
      "\n",
      "    coverage = set()\n",
      "    for i in xrange(1, len(common)):\n",
      "        if common[i][1] < 5:\n",
      "            break\n",
      "            \n",
      "        new_idxs = potential_leaves[common[i][0]]\n",
      "        overlap = set()\n",
      "        for j in xrange(len(included)):\n",
      "            intersect = potential_leaves[included[j]].intersection(new_idxs)\n",
      "            overlap = overlap.union(intersect)\n",
      "\n",
      "        per_overlap = len(overlap)/float(len(new_idxs))\n",
      "        if per_overlap < 0.25:\n",
      "            included.append(common[i][0])\n",
      "            coverage = coverage.union(new_idxs)\n",
      "            \n",
      "#     print(included)\n",
      "#     print([counts[node] for node in included])\n",
      "\n",
      "    final_counts = Counter()\n",
      "    sz = 0\n",
      "    for idx in included:\n",
      "        children = all_nodes[idx].child_ids\n",
      "        sz += len(children)\n",
      "        final_counts += get_go_counts(pd.Series(human_idrs.iloc[children, :].index.tolist()), human_proteome)\n",
      "#         print(pd.Series(human_idrs.iloc[children, :].index.tolist()).str.extract('([\\w]+)_').tolist())\n",
      "    \n",
      "    for term, count in final_counts.most_common():\n",
      "        if count <= 5:\n",
      "            continue\n",
      "        sig = hypergeom.sf(count, len(human_idrs), background_counts[term], sz)\n",
      "        if sig < 0.005:\n",
      "            bkgc = background_counts[term]\n",
      "            results.append({'go_term':term, 'sig':sig, 'count':count, 'bkgc':bkgc, 'per':int(count/float(bkgc)*1000)})\n",
      "    \n",
      "    results.sort(key=lambda x: x['sig'])\n",
      "    results = pd.DataFrame(results, columns=['sig', 'go_term', 'count', 'bkgc', 'per']) if len(results) > 0 else 'N/A'\n",
      "    print(results.drop('per', axis=1) if type(results) is not str else results)"
     ],
     "language": "python",
     "metadata": {},
     "outputs": [
      {
       "output_type": "stream",
       "stream": "stdout",
       "text": [
        "The autoreload extension is already loaded. To reload it, use:\n",
        "  %reload_ext autoreload\n",
        "\n",
        "dsDNA viruses"
       ]
      },
      {
       "output_type": "stream",
       "stream": "stdout",
       "text": [
        "\n",
        "         sig                                            go_term  count  bkgc\n",
        "0   0.000020                     mRNA splicing, via spliceosome     30   239\n",
        "1   0.000024  protein serine/threonine/tyrosine kinase activity      8    29\n",
        "2   0.000085               positive regulation of cell division     10    49\n",
        "3   0.000224                         mRNA splice site selection      6    23\n",
        "4   0.000301  negative regulation of mRNA splicing, via spli...      6    24\n",
        "5   0.000841                             histone ubiquitination      6    28\n",
        "6   0.000849                               extracellular region     71   857\n",
        "7   0.001004                                  adherens junction     15   116\n",
        "8   0.001112                            cytoplasmic microtubule     12    85\n",
        "9   0.001645                                O-glycan processing     24   229\n",
        "10  0.001844            regulation of microtubule-based process      9    59\n",
        "11  0.001954                                interstitial matrix      6    32\n",
        "12  0.002063                                        Golgi lumen     28   284\n",
        "13  0.002168            post-translational protein modification     27   272\n",
        "14  0.002379                        protein autophosphorylation     25   248\n",
        "15  0.003358                 positive regulation of cytokinesis      6    35\n",
        "16  0.003456                             mRNA 3'-end processing      8    54\n",
        "17  0.004485                              intermediate filament     10    77\n",
        "18  0.004485                      Rab GTPase activator activity     10    77"
       ]
      },
      {
       "output_type": "stream",
       "stream": "stdout",
       "text": [
        "\n",
        "\n",
        "Retro-transcribing viruses\n",
        "         sig                                            go_term  count  bkgc\n",
        "0   0.000000  transcription regulatory region sequence-speci...     17   145\n",
        "1   0.000008                response to organic cyclic compound      7    36\n",
        "2   0.000008                       hyaluronan metabolic process      7    36\n",
        "3   0.000066                                 organ regeneration      7    47\n",
        "4   0.000338                              DNA metabolic process      6    45\n",
        "5   0.000478                        protein autophosphorylation     17   248\n",
        "6   0.000729                  peptidyl-tyrosine phosphorylation      9    99\n",
        "7   0.000739                          cellular response to heat      6    51\n",
        "8   0.000832  non-membrane spanning protein tyrosine kinase ...      6    52\n",
        "9   0.001569  RNA polymerase II core promoter sequence-speci...      7    74\n",
        "10  0.002004  regulation of transcription from RNA polymeras...     29   571\n",
        "11  0.002401                            inner ear morphogenesis      8    97"
       ]
      },
      {
       "output_type": "stream",
       "stream": "stdout",
       "text": [
        "\n",
        "\n",
        "dsRNA viruses\n",
        "N/A\n",
        "\n",
        "ssRNA positive-strand viruses\n",
        "         sig                                            go_term  count  bkgc\n",
        "0   0.000001                         collagen metabolic process      8    36\n",
        "1   0.000012                 proteinaceous extracellular matrix     20   237\n",
        "2   0.000025                  regulation of JUN kinase activity      6    30\n",
        "3   0.000049                     triglyceride metabolic process      6    33\n",
        "4   0.000244                             elastic fiber assembly      6    42\n",
        "5   0.000284                  extracellular fibril organization      6    43\n",
        "6   0.000387          cytoskeletal anchoring at plasma membrane      7    59\n",
        "7   0.000435  positive regulation of mesenchymal cell prolif...      7    60\n",
        "8   0.000568                                      intracellular     18   268\n",
        "9   0.000646                       fatty acid metabolic process      6    49\n",
        "10  0.001209               single organismal cell-cell adhesion     12   160\n",
        "11  0.001351                                     adult behavior      7    71\n",
        "12  0.001894                               presynaptic membrane      8    92\n",
        "13  0.001978                                    lysosomal lumen      6    59\n",
        "14  0.002684                       collagen fibril organization      7    79\n",
        "15  0.002728                            inner ear morphogenesis      8    97\n",
        "16  0.003139                glycosaminoglycan metabolic process      7    81\n",
        "17  0.003765          negative regulation of catalytic activity      6    66\n",
        "18  0.003793                               cell-matrix adhesion      9   121"
       ]
      },
      {
       "output_type": "stream",
       "stream": "stdout",
       "text": [
        "\n",
        "\n",
        "ssRNA negative-strand viruses\n",
        "             sig                                     go_term  count  bkgc\n",
        "0   1.113920e-08             extrinsic component of membrane     15   183\n",
        "1   6.819909e-06                         O-glycan processing     13   229\n",
        "2   4.645021e-05     post-translational protein modification     13   272\n",
        "3   7.388482e-05                                 Golgi lumen     13   284\n",
        "4   1.659165e-04       protein tyrosine phosphatase activity      7   107\n",
        "5   3.064923e-04            condensed chromosome kinetochore      7   117\n",
        "6   4.229840e-04          cellular protein metabolic process     16   460\n",
        "7   1.379377e-03                                   nucleolus     28  1098\n",
        "8   1.926077e-03                              early endosome      8   191\n",
        "9   2.211835e-03                  post-embryonic development      6   124\n",
        "10  2.592597e-03             extracellular vesicular exosome     31  1306\n",
        "11  4.343341e-03  guanyl-nucleotide exchange factor activity      6   140"
       ]
      },
      {
       "output_type": "stream",
       "stream": "stdout",
       "text": [
        "\n",
        "\n",
        "ssDNA viruses\n",
        "N/A\n"
       ]
      }
     ],
     "prompt_number": 36
    },
    {
     "cell_type": "markdown",
     "metadata": {},
     "source": [
      "## Low coverage by \"leaves\" within human IDRome tree\n",
      "\n",
      "\"Leaves\" are considered those that have at least 20 actual leaves and both their left and right child have less than 20."
     ]
    },
    {
     "cell_type": "code",
     "collapsed": false,
     "input": [
      "print(\"Leaf coverage: %.1f%%\"%(sum([len(leaf.child_ids) for leaf in leaves])/float(len(human_idrs))*100))"
     ],
     "language": "python",
     "metadata": {},
     "outputs": [
      {
       "output_type": "stream",
       "stream": "stdout",
       "text": [
        "Leaf coverage: 65.5%\n"
       ]
      }
     ],
     "prompt_number": 22
    },
    {
     "cell_type": "markdown",
     "metadata": {},
     "source": [
      "This means that only 65% or so of the IDRome is actually present in these true leaves, which is about what you would expect."
     ]
    },
    {
     "cell_type": "code",
     "collapsed": false,
     "input": [],
     "language": "python",
     "metadata": {},
     "outputs": []
    }
   ],
   "metadata": {}
  }
 ]
}